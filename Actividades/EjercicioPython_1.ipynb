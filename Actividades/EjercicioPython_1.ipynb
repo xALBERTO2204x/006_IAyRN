{
  "nbformat": 4,
  "nbformat_minor": 0,
  "metadata": {
    "colab": {
      "provenance": []
    },
    "kernelspec": {
      "name": "python3",
      "display_name": "Python 3"
    },
    "language_info": {
      "name": "python"
    }
  },
  "cells": [
    {
      "cell_type": "markdown",
      "source": [
        "# Actividad 2 Diseño de Algoritmos en Python\n",
        "## Alberto Gómez Vázquez 1996158 Jueves M4, M5 Y M6"
      ],
      "metadata": {
        "id": "9XZCAYdiVXc-"
      }
    },
    {
      "cell_type": "markdown",
      "source": [
        "### EJERCICIO 1\n",
        "Desarrolla un algoritmo que le pida al usuario por su nombre y que lo salude con su nombre, excepto si se llama “Ana”, “Juan”, y “Pedro”\n"
      ],
      "metadata": {
        "id": "ivOMJl4_Vs4r"
      }
    },
    {
      "cell_type": "code",
      "source": [
        "nombre = input(\"Hola, ¿Cuál es tu nombre?: \")\n",
        "\n",
        "if nombre.capitalize() not in [\"Ana\", \"Juan\", \"Pedro\"]:\n",
        "    print(\"Hola, Buen dia \"  + nombre)\n",
        "else:\n",
        "    print(\"Hola, Buen dia\")\n"
      ],
      "metadata": {
        "id": "6PxuWxgDUgt4",
        "colab": {
          "base_uri": "https://localhost:8080/"
        },
        "outputId": "3f2b7273-9726-4d02-a0fb-8e4edb371abc"
      },
      "execution_count": null,
      "outputs": [
        {
          "output_type": "stream",
          "name": "stdout",
          "text": [
            "Hola, ¿Cuál es tu nombre?: Ana\n",
            "Hola, Buen dia\n"
          ]
        }
      ]
    },
    {
      "cell_type": "markdown",
      "source": [
        "### EJERCICIO 2\n",
        "Desarrolla un algoritmo que por medio de una función, le pida al usuario una lista de N elementos y como resultado invierta el sentido de la lista."
      ],
      "metadata": {
        "id": "p7_6goPjWqxe"
      }
    },
    {
      "cell_type": "code",
      "source": [
        "def invertir_lista():\n",
        "\n",
        "    puntos = input(\"Por favor ingresar la lista deseada: \").split()\n",
        "    puntos.reverse()\n",
        "    print(\"Lista invertida:\", puntos)\n",
        "\n",
        "\n",
        "invertir_lista()\n"
      ],
      "metadata": {
        "colab": {
          "base_uri": "https://localhost:8080/"
        },
        "id": "CKZ4Ug79Vrqj",
        "outputId": "ea9b27c8-257c-49f2-9c5a-e3743d5a23d8"
      },
      "execution_count": null,
      "outputs": [
        {
          "output_type": "stream",
          "name": "stdout",
          "text": [
            "Por favor ingresar la lista deseada:  1 3 5 7 9 10 23      \n",
            "Lista invertida: ['23', '10', '9', '7', '5', '3', '1']\n"
          ]
        }
      ]
    },
    {
      "cell_type": "markdown",
      "source": [
        "### EJERCICIO 3\n",
        "Desarrolla un algoritmo que le pregunte al usuario cuántos números de la serie de Fibonacci quiere generar y que al final los imprima."
      ],
      "metadata": {
        "id": "UyoMlIMTYd-z"
      }
    },
    {
      "cell_type": "code",
      "source": [
        "def fibonacci(n):\n",
        "    f = [0, 1]\n",
        "    while len(f) < n:\n",
        "        f.append(f[-1] + f[-2])\n",
        "    return f[:n]\n",
        "\n",
        "num = int(input(\"¿Cuántos numeros de la serie de Fibonacci quieres saber: \"))\n",
        "\n",
        "print(\"Los\", num, \"números de la serie de Fibonacci son:\")\n",
        "print(fibonacci(num))\n"
      ],
      "metadata": {
        "colab": {
          "base_uri": "https://localhost:8080/"
        },
        "id": "ze3vD8yvYk_y",
        "outputId": "b772df19-25bc-4161-8936-a1693211656e"
      },
      "execution_count": null,
      "outputs": [
        {
          "output_type": "stream",
          "name": "stdout",
          "text": [
            "¿Cuántos numeros de la serie de Fibonacci quieres saber: 4\n",
            "Los 4 números de la serie de Fibonacci son:\n",
            "[0, 1, 1, 2]\n"
          ]
        }
      ]
    },
    {
      "cell_type": "markdown",
      "source": [
        "### EJERCICIO 4\n",
        "Juego de adivinar el número: Crea un programa que genere un número aleatorio entre 1 y 100, y luego le pida al usuario que adivine el número. El programa debe proporcionar pistas al usuario si el número es mayor o menor que el número objetivo, y seguir solicitando un nuevo intento hasta que el usuario adivine correctamente."
      ],
      "metadata": {
        "id": "co0Y3ZjpZjr2"
      }
    },
    {
      "cell_type": "code",
      "source": [
        "import random\n",
        "\n",
        "num = random.randint(1, 100)\n",
        "\n",
        "print(\"Adivina el número entre 1 y 100.\")\n",
        "\n",
        "while True:\n",
        "    intento = int(input(\"Ingresa tu número: \"))\n",
        "    if intento < num:\n",
        "        print(\"El número es más grande. ¡Vuelve a intentarlo!\")\n",
        "    elif intento > num:\n",
        "        print(\"El número es más chico. ¡Vuelve a intentarlo!\")\n",
        "    else:\n",
        "        print(\"¡GANASTE HAS ADIVINADO EL NÚMERO! .\")\n",
        "        break"
      ],
      "metadata": {
        "colab": {
          "base_uri": "https://localhost:8080/"
        },
        "id": "WP9OQfgqZilh",
        "outputId": "ae999b76-e423-4562-8177-cd06ff265db3"
      },
      "execution_count": null,
      "outputs": [
        {
          "output_type": "stream",
          "name": "stdout",
          "text": [
            "Adivina el número entre 1 y 100.\n",
            "Ingresa tu número: 50\n",
            "El número es más chico. ¡Vuelve a intentarlo!\n",
            "Ingresa tu número: 25\n",
            "El número es más grande. ¡Vuelve a intentarlo!\n",
            "Ingresa tu número: 30\n",
            "El número es más grande. ¡Vuelve a intentarlo!\n",
            "Ingresa tu número: 40\n",
            "El número es más grande. ¡Vuelve a intentarlo!\n",
            "Ingresa tu número: 45\n",
            "El número es más grande. ¡Vuelve a intentarlo!\n",
            "Ingresa tu número: 49\n",
            "El número es más chico. ¡Vuelve a intentarlo!\n",
            "Ingresa tu número: 47\n",
            "El número es más chico. ¡Vuelve a intentarlo!\n",
            "Ingresa tu número: 46\n",
            "¡GANASTE HAS ADIVINADO EL NÚMERO! .\n"
          ]
        }
      ]
    },
    {
      "cell_type": "markdown",
      "source": [
        "###EJERCICIO 5  \n",
        "Ejercicio de cálculo de números primos en un rango dado: Escribe un programa que solicite al usuario un rango de números y muestre todos los números primos dentro de ese rango."
      ],
      "metadata": {
        "id": "EGfpZCe9b8Dl"
      }
    },
    {
      "cell_type": "code",
      "source": [
        "def es_primo(numero, divisor=2):\n",
        "    if numero <= 2:\n",
        "        return numero == 2\n",
        "    if numero % divisor == 0:\n",
        "        return False\n",
        "    if divisor * divisor > numero:\n",
        "        return True\n",
        "    return es_primo(numero, divisor + 1)\n",
        "\n",
        "def numeros_primos_en_rango(inicio, fin):\n",
        "    primos = []\n",
        "    for num in range(inicio, fin + 1):\n",
        "        if es_primo(num):\n",
        "            primos.append(num)\n",
        "    return primos\n",
        "\n",
        "inicio = int(input(\"Inicio de rango: \"))\n",
        "fin = int(input(\"Fin de rango: \"))\n",
        "\n",
        "print(\"Numeros primos:\", numeros_primos_en_rango(inicio, fin))"
      ],
      "metadata": {
        "id": "8OAKnqfjcBkZ",
        "colab": {
          "base_uri": "https://localhost:8080/"
        },
        "outputId": "d7716d02-af01-452f-b66a-dd8714e3d5e3"
      },
      "execution_count": null,
      "outputs": [
        {
          "output_type": "stream",
          "name": "stdout",
          "text": [
            "Inicio de rango: 10\n",
            "Fin de rango: 100\n",
            "Numeros primos: [11, 13, 17, 19, 23, 29, 31, 37, 41, 43, 47, 53, 59, 61, 67, 71, 73, 79, 83, 89, 97]\n"
          ]
        }
      ]
    },
    {
      "cell_type": "markdown",
      "source": [
        "## EJEMPLO 6\n",
        "Ejercicio de implementación de una calculadora básica utilizando funciones: Escribe un programa que solicite al usuario dos números y realice operaciones básicas como suma, resta, multiplicación y división utilizando funciones separadas para cada operación."
      ],
      "metadata": {
        "id": "Hd15jt7pigrI"
      }
    },
    {
      "cell_type": "code",
      "source": [
        "def suma(x, y):\n",
        "    return x + y\n",
        "\n",
        "def resta(x, y):\n",
        "    return x - y\n",
        "\n",
        "def multiplicacion(x, y):\n",
        "    return x * y\n",
        "\n",
        "def division(x, y):\n",
        "    if y == 0:\n",
        "        return \"Mat Error\"\n",
        "    return x / y\n",
        "\n",
        "n1 = float(input(\"primer número: \"))\n",
        "n2 = float(input(\"segundo número: \"))\n",
        "operaciones = {\n",
        "    'suma': suma,\n",
        "    'resta': resta,\n",
        "    'multiplicacion': multiplicacion,\n",
        "    'division': division\n",
        "}\n",
        "operaciones_deseadas = input(\"¿Cuales operaciones desear realizar? (separa con espacios ) \").split(' ')\n",
        "for operacion in operaciones_deseadas:\n",
        "    resultado = operaciones[operacion.strip()](n1, n2)\n",
        "    print(f\"{operacion}: {resultado}\")"
      ],
      "metadata": {
        "colab": {
          "base_uri": "https://localhost:8080/"
        },
        "id": "qu8Mf_eZ6ro3",
        "outputId": "6b0d5350-51a2-4634-ff7d-d5fd5b01cb34"
      },
      "execution_count": 46,
      "outputs": [
        {
          "output_type": "stream",
          "name": "stdout",
          "text": [
            "primer número: 15\n",
            "segundo número: 47\n",
            "¿Cuales operaciones desear realizar? (separa con espacios ) suma resta multiplicacion division\n",
            "suma: 62.0\n",
            "resta: -32.0\n",
            "multiplicacion: 705.0\n",
            "division: 0.3191489361702128\n"
          ]
        }
      ]
    }
  ]
}